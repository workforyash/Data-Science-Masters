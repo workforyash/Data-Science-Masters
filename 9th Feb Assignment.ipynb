{
 "cells": [
  {
   "cell_type": "markdown",
   "id": "1e6d08b0",
   "metadata": {},
   "source": [
    "Q1."
   ]
  },
  {
   "cell_type": "code",
   "execution_count": 71,
   "id": "6e21c70a",
   "metadata": {},
   "outputs": [],
   "source": [
    "class vehicle:\n",
    "    def __init__(self,name_of_vehicle , max_speed, average_of_vehicle):\n",
    "        self.name_of_vehicle= name_of_vehicle\n",
    "        self.max_speed= max_speed\n",
    "        self.average_of_vehicle= average_of_vehicle"
   ]
  },
  {
   "cell_type": "markdown",
   "id": "a525b2b0",
   "metadata": {},
   "source": [
    "Q2."
   ]
  },
  {
   "cell_type": "code",
   "execution_count": 72,
   "id": "fb7d585f",
   "metadata": {},
   "outputs": [],
   "source": [
    "class car(vehicle):\n",
    "    \n",
    "    def seating_capacity(self, capacity):\n",
    "        self.capacity= capacity\n",
    "        return self.name_of_vehicle +\"->\"+str(self.capacity)"
   ]
  },
  {
   "cell_type": "code",
   "execution_count": 73,
   "id": "eff403e9",
   "metadata": {},
   "outputs": [],
   "source": [
    "ford= car(\"salut\", 231, 12)"
   ]
  },
  {
   "cell_type": "code",
   "execution_count": 74,
   "id": "39267412",
   "metadata": {},
   "outputs": [
    {
     "data": {
      "text/plain": [
       "'salut->2'"
      ]
     },
     "execution_count": 74,
     "metadata": {},
     "output_type": "execute_result"
    }
   ],
   "source": [
    "ford.seating_capacity(2)"
   ]
  },
  {
   "cell_type": "markdown",
   "id": "3a45f1c2",
   "metadata": {},
   "source": [
    "Q3."
   ]
  },
  {
   "cell_type": "markdown",
   "id": "276f1bfc",
   "metadata": {},
   "source": [
    "Multiple inheritance is that type of inheritance in which single child inherit functionalities from more than one parent."
   ]
  },
  {
   "cell_type": "code",
   "execution_count": 76,
   "id": "d7907e9d",
   "metadata": {},
   "outputs": [],
   "source": [
    "class parent1:\n",
    "    att= \"parent1 attribute\"\n",
    "\n",
    "class parent2:\n",
    "    att= \"parent2 attribute\"\n",
    "\n",
    "class child(parent1, parent2):\n",
    "    def show_att(self):\n",
    "        print(parent1.att)\n",
    "        print(parent2.att)\n",
    "        \n",
    "        "
   ]
  },
  {
   "cell_type": "code",
   "execution_count": 77,
   "id": "27743337",
   "metadata": {},
   "outputs": [],
   "source": [
    "child1= child()"
   ]
  },
  {
   "cell_type": "code",
   "execution_count": 78,
   "id": "291b9f1a",
   "metadata": {},
   "outputs": [
    {
     "name": "stdout",
     "output_type": "stream",
     "text": [
      "parent1 attribute\n",
      "parent2 attribute\n"
     ]
    }
   ],
   "source": [
    "child1.show_att()"
   ]
  },
  {
   "cell_type": "markdown",
   "id": "0c571785",
   "metadata": {},
   "source": [
    "Q4."
   ]
  },
  {
   "cell_type": "markdown",
   "id": "7ce27641",
   "metadata": {},
   "source": [
    "getters and setters nothing but functions that are used for getting the values and assigning the values of private data members "
   ]
  },
  {
   "cell_type": "code",
   "execution_count": 79,
   "id": "981515c0",
   "metadata": {},
   "outputs": [],
   "source": [
    "class test:\n",
    "    def __init__(self, data):\n",
    "        self.__data= data\n",
    "    \n",
    "    def get(self):\n",
    "        return self.__data\n",
    "    \n",
    "    def set(self, val):\n",
    "        self.__data= val\n",
    "        return self.__data"
   ]
  },
  {
   "cell_type": "code",
   "execution_count": 80,
   "id": "02a7bd11",
   "metadata": {},
   "outputs": [],
   "source": [
    "obj= test(32)"
   ]
  },
  {
   "cell_type": "code",
   "execution_count": 81,
   "id": "129f81d2",
   "metadata": {},
   "outputs": [
    {
     "data": {
      "text/plain": [
       "32"
      ]
     },
     "execution_count": 81,
     "metadata": {},
     "output_type": "execute_result"
    }
   ],
   "source": [
    "obj.get()"
   ]
  },
  {
   "cell_type": "code",
   "execution_count": 82,
   "id": "a884687c",
   "metadata": {},
   "outputs": [
    {
     "data": {
      "text/plain": [
       "43"
      ]
     },
     "execution_count": 82,
     "metadata": {},
     "output_type": "execute_result"
    }
   ],
   "source": [
    "obj.set(43)"
   ]
  },
  {
   "cell_type": "code",
   "execution_count": 83,
   "id": "8b2a10aa",
   "metadata": {},
   "outputs": [
    {
     "data": {
      "text/plain": [
       "43"
      ]
     },
     "execution_count": 83,
     "metadata": {},
     "output_type": "execute_result"
    }
   ],
   "source": [
    "obj.get()"
   ]
  },
  {
   "cell_type": "markdown",
   "id": "a04cbe65",
   "metadata": {},
   "source": [
    "Q5."
   ]
  },
  {
   "cell_type": "markdown",
   "id": "6144e998",
   "metadata": {},
   "source": [
    "method overriding in python is used to provide a more specific implementation to the methods written in the parent class by reimplimenting the methods in child class"
   ]
  },
  {
   "cell_type": "code",
   "execution_count": 84,
   "id": "326b02fd",
   "metadata": {},
   "outputs": [],
   "source": [
    "class parent:\n",
    "    att=23\n",
    "    def show(self):\n",
    "        return att\n",
    "\n",
    "class child(parent):\n",
    "    def show(self):\n",
    "        print(\"This is the method of child class\")\n",
    "        return self.att"
   ]
  },
  {
   "cell_type": "code",
   "execution_count": 85,
   "id": "55d5db0c",
   "metadata": {},
   "outputs": [
    {
     "name": "stdout",
     "output_type": "stream",
     "text": [
      "This is the method of child class\n"
     ]
    },
    {
     "data": {
      "text/plain": [
       "23"
      ]
     },
     "execution_count": 85,
     "metadata": {},
     "output_type": "execute_result"
    }
   ],
   "source": [
    "c1= child()\n",
    "c1.show()"
   ]
  },
  {
   "cell_type": "code",
   "execution_count": null,
   "id": "b6b34ad8",
   "metadata": {},
   "outputs": [],
   "source": []
  }
 ],
 "metadata": {
  "kernelspec": {
   "display_name": "Python 3 (ipykernel)",
   "language": "python",
   "name": "python3"
  },
  "language_info": {
   "codemirror_mode": {
    "name": "ipython",
    "version": 3
   },
   "file_extension": ".py",
   "mimetype": "text/x-python",
   "name": "python",
   "nbconvert_exporter": "python",
   "pygments_lexer": "ipython3",
   "version": "3.9.13"
  }
 },
 "nbformat": 4,
 "nbformat_minor": 5
}
