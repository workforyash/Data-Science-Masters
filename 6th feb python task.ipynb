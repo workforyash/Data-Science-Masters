{
 "cells": [
  {
   "cell_type": "markdown",
   "id": "6e07b351",
   "metadata": {},
   "source": [
    "Q1."
   ]
  },
  {
   "cell_type": "code",
   "execution_count": 8,
   "id": "2f94da31",
   "metadata": {},
   "outputs": [
    {
     "data": {
      "text/plain": [
       "78718933113238978560"
      ]
     },
     "execution_count": 8,
     "metadata": {},
     "output_type": "execute_result"
    }
   ],
   "source": [
    "list1 = [1,2,3,4, [44,55,66, True], False, (34,56,78,89,34), {1,2,3,3,2,1}, {1:34, \"key2\": [55, 67, 78, 89], 4: (45,\n",
    "22, 61, 34)}, [56, 'data science'], 'Machine Learning']\n",
    "\n",
    "def multi(l):\n",
    "    ans=1\n",
    "    for i in l:\n",
    "        if type(i)== int:\n",
    "            ans*=i\n",
    "        elif type(i)== list:\n",
    "            for j in i:\n",
    "                if type(j)==int:\n",
    "                    ans*=j\n",
    "        elif type(i)==tuple:\n",
    "            for j in i:\n",
    "                if type(j)==int:\n",
    "                    ans*=j\n",
    "        elif type(i)==set:\n",
    "            for j in i:\n",
    "                if type(j)==int:\n",
    "                    ans*=j\n",
    "        elif type(i)==dict:\n",
    "            for j in i.keys():\n",
    "                if type(j)==int:\n",
    "                    ans*=j\n",
    "            for j in i.values():\n",
    "                if type(j)==int:\n",
    "                    ans*=j\n",
    "    return ans\n",
    "\n",
    "multi(list1)\n",
    "\n",
    "                "
   ]
  },
  {
   "cell_type": "code",
   "execution_count": 6,
   "id": "2907b8bf",
   "metadata": {},
   "outputs": [
    {
     "name": "stdout",
     "output_type": "stream",
     "text": [
      "97\n",
      "122\n"
     ]
    }
   ],
   "source": [
    "print(ord(\"a\"))\n",
    "print(ord(\"z\"))"
   ]
  },
  {
   "cell_type": "markdown",
   "id": "8742bae2",
   "metadata": {},
   "source": [
    "Q2."
   ]
  },
  {
   "cell_type": "code",
   "execution_count": 12,
   "id": "8cbdc6d7",
   "metadata": {},
   "outputs": [
    {
     "data": {
      "text/plain": [
       "'r$dzmg$gl$yvxlnv$z$wzgz$hxrvmgrhg.'"
      ]
     },
     "execution_count": 12,
     "metadata": {},
     "output_type": "execute_result"
    }
   ],
   "source": [
    "inp= \"I want to become a Data Scientist.\"\n",
    "\n",
    "def encrypt(s):\n",
    "    s= s.lower()\n",
    "    msg=\"\"\n",
    "    for i in s:\n",
    "        if i==\" \":\n",
    "            msg= msg+'$'\n",
    "        elif i.isalpha():\n",
    "            msg= msg+chr(ord(i)+25-2*(ord(i)%ord(\"a\")))\n",
    "        else:\n",
    "            msg= msg+i\n",
    "    return msg\n",
    "\n",
    "encrypt(inp)"
   ]
  },
  {
   "cell_type": "code",
   "execution_count": null,
   "id": "d121432f",
   "metadata": {},
   "outputs": [],
   "source": []
  },
  {
   "cell_type": "code",
   "execution_count": null,
   "id": "a8b22a74",
   "metadata": {},
   "outputs": [],
   "source": []
  }
 ],
 "metadata": {
  "kernelspec": {
   "display_name": "Python 3 (ipykernel)",
   "language": "python",
   "name": "python3"
  },
  "language_info": {
   "codemirror_mode": {
    "name": "ipython",
    "version": 3
   },
   "file_extension": ".py",
   "mimetype": "text/x-python",
   "name": "python",
   "nbconvert_exporter": "python",
   "pygments_lexer": "ipython3",
   "version": "3.9.13"
  }
 },
 "nbformat": 4,
 "nbformat_minor": 5
}
