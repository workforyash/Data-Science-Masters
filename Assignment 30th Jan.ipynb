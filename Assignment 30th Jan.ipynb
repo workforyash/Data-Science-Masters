{
 "cells": [
  {
   "cell_type": "markdown",
   "id": "54e2d706",
   "metadata": {},
   "source": [
    "Q1."
   ]
  },
  {
   "cell_type": "code",
   "execution_count": 1,
   "id": "ddfcfe34",
   "metadata": {},
   "outputs": [
    {
     "name": "stdout",
     "output_type": "stream",
     "text": [
      "Enter user percentage: 87\n",
      "B\n"
     ]
    }
   ],
   "source": [
    "perc = int(input(\"Enter user percentage: \"))\n",
    "if perc>90:\n",
    "    print(\"A\")\n",
    "elif perc>80:\n",
    "    print(\"B\")\n",
    "elif perc>= 60:\n",
    "    print(\"C\")\n",
    "else:\n",
    "    print(\"D\")"
   ]
  },
  {
   "cell_type": "markdown",
   "id": "d0aa7987",
   "metadata": {},
   "source": [
    "Q2."
   ]
  },
  {
   "cell_type": "code",
   "execution_count": 2,
   "id": "6763f772",
   "metadata": {},
   "outputs": [
    {
     "name": "stdout",
     "output_type": "stream",
     "text": [
      "Enter cost of bike: 80000\n",
      "8000.0\n"
     ]
    }
   ],
   "source": [
    "cost= int(input(\"Enter cost of bike: \"))\n",
    "if cost>100000:\n",
    "    tax= cost*.15\n",
    "elif cost> 50000:\n",
    "    tax= cost*.10\n",
    "else:\n",
    "    tax= cost*.05\n",
    "print(tax)"
   ]
  },
  {
   "cell_type": "markdown",
   "id": "4e8f9326",
   "metadata": {},
   "source": [
    "Q3."
   ]
  },
  {
   "cell_type": "code",
   "execution_count": 3,
   "id": "67c7bd3d",
   "metadata": {},
   "outputs": [
    {
     "name": "stdout",
     "output_type": "stream",
     "text": [
      "Enter name of the city: jaipur\n",
      "Jal Mahal\n"
     ]
    }
   ],
   "source": [
    "city= input(\"Enter name of the city: \")\n",
    "city= city.capitalize()\n",
    "if city== \"Delhi\":\n",
    "    print(\"Red Fort\")\n",
    "elif city== \"Agra\":\n",
    "    print(\"Taj Mahal\")\n",
    "elif city== \"Jaipur\":\n",
    "    print(\"Jal Mahal\")\n",
    "else:\n",
    "    print(\"not accepted\")"
   ]
  },
  {
   "cell_type": "markdown",
   "id": "22b6aa67",
   "metadata": {},
   "source": [
    "Q4."
   ]
  },
  {
   "cell_type": "code",
   "execution_count": 4,
   "id": "ad3feb12",
   "metadata": {},
   "outputs": [
    {
     "name": "stdout",
     "output_type": "stream",
     "text": [
      "Enter a number: 57\n",
      "2\n"
     ]
    }
   ],
   "source": [
    "num = int(input(\"Enter a number: \"))\n",
    "count= 0\n",
    "while num>10:\n",
    "    num=num/3\n",
    "    count+=1\n",
    "print(count)"
   ]
  },
  {
   "cell_type": "markdown",
   "id": "6bc8f393",
   "metadata": {},
   "source": [
    "Q5. "
   ]
  },
  {
   "cell_type": "markdown",
   "id": "42c80bff",
   "metadata": {},
   "source": [
    "while loop is used to check the condition and if it is satisfied then perform a set of instructions."
   ]
  },
  {
   "cell_type": "markdown",
   "id": "173ccd51",
   "metadata": {},
   "source": [
    "Q6. pattern1:"
   ]
  },
  {
   "cell_type": "code",
   "execution_count": null,
   "id": "2bd8a639",
   "metadata": {},
   "outputs": [],
   "source": [
    "n=int(input(\"Enter a num: \"))\n",
    "i=0\n",
    "j=0\n",
    "while i<n:\n",
    "    while j<i:\n",
    "        print(\"*\")\n",
    "        j++\n",
    "    i++"
   ]
  },
  {
   "cell_type": "markdown",
   "id": "4bd8e0cf",
   "metadata": {},
   "source": [
    "Q4."
   ]
  },
  {
   "cell_type": "code",
   "execution_count": null,
   "id": "7d777fc6",
   "metadata": {},
   "outputs": [],
   "source": [
    "i=10\n",
    "while i>0:\n",
    "    print(i)\n",
    "    i-=1"
   ]
  },
  {
   "cell_type": "code",
   "execution_count": null,
   "id": "5873ccec",
   "metadata": {},
   "outputs": [],
   "source": []
  }
 ],
 "metadata": {
  "kernelspec": {
   "display_name": "Python 3 (ipykernel)",
   "language": "python",
   "name": "python3"
  },
  "language_info": {
   "codemirror_mode": {
    "name": "ipython",
    "version": 3
   },
   "file_extension": ".py",
   "mimetype": "text/x-python",
   "name": "python",
   "nbconvert_exporter": "python",
   "pygments_lexer": "ipython3",
   "version": "3.9.13"
  }
 },
 "nbformat": 4,
 "nbformat_minor": 5
}
