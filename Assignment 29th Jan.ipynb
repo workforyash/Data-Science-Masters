{
 "cells": [
  {
   "cell_type": "raw",
   "id": "502e385c",
   "metadata": {},
   "source": [
    "Q1. Guido van Rossum"
   ]
  },
  {
   "cell_type": "markdown",
   "id": "2571a6e6",
   "metadata": {},
   "source": [
    "Q2. Object oriented programming"
   ]
  },
  {
   "cell_type": "markdown",
   "id": "ab5745f4",
   "metadata": {},
   "source": [
    "Q3. Yes, it is case sensitive."
   ]
  },
  {
   "cell_type": "markdown",
   "id": "7581389b",
   "metadata": {},
   "source": [
    "Q4. .py"
   ]
  },
  {
   "cell_type": "markdown",
   "id": "230a8923",
   "metadata": {},
   "source": [
    "Q5. interpreted"
   ]
  },
  {
   "cell_type": "markdown",
   "id": "ae383fe8",
   "metadata": {},
   "source": [
    "Q6. a module, function definition and class"
   ]
  },
  {
   "cell_type": "markdown",
   "id": "c5f4b795",
   "metadata": {},
   "source": [
    "Q7 # is used to comment a line."
   ]
  },
  {
   "cell_type": "markdown",
   "id": "95a0e6da",
   "metadata": {},
   "source": [
    "Q8. python_version()"
   ]
  },
  {
   "cell_type": "markdown",
   "id": "a2441c04",
   "metadata": {},
   "source": [
    "Q9. lambda"
   ]
  },
  {
   "cell_type": "markdown",
   "id": "833b062b",
   "metadata": {},
   "source": [
    "Q10. pip stands for pip install packages"
   ]
  },
  {
   "cell_type": "markdown",
   "id": "f799fbfe",
   "metadata": {},
   "source": [
    "Q11. type(), print(), str()\n"
   ]
  },
  {
   "cell_type": "markdown",
   "id": "1a4b15d1",
   "metadata": {},
   "source": [
    "Q12. 79 characters"
   ]
  },
  {
   "cell_type": "markdown",
   "id": "e4ab3a7c",
   "metadata": {},
   "source": [
    "Q13. it is object oriented, dynamic in nature and have a easy syntax to understand."
   ]
  },
  {
   "cell_type": "markdown",
   "id": "277cf404",
   "metadata": {},
   "source": [
    "Q14. memory is managed using orivate"
   ]
  },
  {
   "cell_type": "code",
   "execution_count": null,
   "id": "52c2ed0f",
   "metadata": {},
   "outputs": [],
   "source": []
  },
  {
   "cell_type": "code",
   "execution_count": null,
   "id": "1c94d099",
   "metadata": {},
   "outputs": [],
   "source": []
  },
  {
   "cell_type": "code",
   "execution_count": null,
   "id": "449e7916",
   "metadata": {},
   "outputs": [],
   "source": []
  },
  {
   "cell_type": "code",
   "execution_count": null,
   "id": "e48670ef",
   "metadata": {},
   "outputs": [],
   "source": []
  }
 ],
 "metadata": {
  "kernelspec": {
   "display_name": "Python 3 (ipykernel)",
   "language": "python",
   "name": "python3"
  },
  "language_info": {
   "codemirror_mode": {
    "name": "ipython",
    "version": 3
   },
   "file_extension": ".py",
   "mimetype": "text/x-python",
   "name": "python",
   "nbconvert_exporter": "python",
   "pygments_lexer": "ipython3",
   "version": "3.9.13"
  }
 },
 "nbformat": 4,
 "nbformat_minor": 5
}
