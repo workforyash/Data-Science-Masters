{
 "cells": [
  {
   "cell_type": "markdown",
   "id": "80e84174",
   "metadata": {},
   "source": [
    "Q1."
   ]
  },
  {
   "cell_type": "code",
   "execution_count": 6,
   "id": "0f81c46a",
   "metadata": {},
   "outputs": [
    {
     "name": "stdout",
     "output_type": "stream",
     "text": [
      "Enter password: WQoe2!@#sj\n"
     ]
    },
    {
     "data": {
      "text/plain": [
       "'Valid Password'"
      ]
     },
     "execution_count": 6,
     "metadata": {},
     "output_type": "execute_result"
    }
   ],
   "source": [
    "import string\n",
    "def check(s):\n",
    "    ucount=0\n",
    "    lcount=0\n",
    "    numcount=0\n",
    "    spcount=0\n",
    "    for i in s:\n",
    "        if i.isupper():\n",
    "            ucount+=1\n",
    "        elif i.islower():\n",
    "            lcount+=1\n",
    "        elif i.isnumeric():\n",
    "            numcount+=1\n",
    "        elif i in string.punctuation:\n",
    "            spcount+=1\n",
    "    if ucount>=2 and lcount>=2 and numcount>=1 and spcount>=3 and len(s)==10:\n",
    "        return \"Valid Password\"\n",
    "    else:\n",
    "        return \"Invalid Password\"\n",
    "\n",
    "pw= input(\"Enter password: \")\n",
    "check(pw)"
   ]
  },
  {
   "cell_type": "markdown",
   "id": "9417cf45",
   "metadata": {},
   "source": [
    "Q2.\n",
    "- i"
   ]
  },
  {
   "cell_type": "code",
   "execution_count": 7,
   "id": "01f9ca38",
   "metadata": {},
   "outputs": [],
   "source": [
    "ch= lambda s : s[0]==\"a\""
   ]
  },
  {
   "cell_type": "code",
   "execution_count": 8,
   "id": "8b8d2317",
   "metadata": {},
   "outputs": [
    {
     "name": "stdout",
     "output_type": "stream",
     "text": [
      "True\n"
     ]
    }
   ],
   "source": [
    "print(ch(\"am\"))"
   ]
  },
  {
   "cell_type": "code",
   "execution_count": 10,
   "id": "a7b765d5",
   "metadata": {},
   "outputs": [
    {
     "name": "stdout",
     "output_type": "stream",
     "text": [
      "False\n"
     ]
    }
   ],
   "source": [
    "print(ch(\"sm\"))"
   ]
  },
  {
   "cell_type": "markdown",
   "id": "fb3a0827",
   "metadata": {},
   "source": [
    "- ii"
   ]
  },
  {
   "cell_type": "code",
   "execution_count": 12,
   "id": "1e745659",
   "metadata": {},
   "outputs": [
    {
     "name": "stdout",
     "output_type": "stream",
     "text": [
      "False\n"
     ]
    }
   ],
   "source": [
    "numeric= lambda s : s.isnumeric()\n",
    "print(numeric(\"12s3\"))"
   ]
  },
  {
   "cell_type": "markdown",
   "id": "253ab707",
   "metadata": {},
   "source": [
    "- iii"
   ]
  },
  {
   "cell_type": "code",
   "execution_count": 3,
   "id": "e84fbd1a",
   "metadata": {},
   "outputs": [
    {
     "name": "stdout",
     "output_type": "stream",
     "text": [
      "[('orange', 80), ('mango', 99), ('grapes', 1000)]\n"
     ]
    }
   ],
   "source": [
    "list1= [(\"mango\",99),(\"orange\",80), (\"grapes\", 1000)]\n",
    "list1.sort(key= lambda x : x[1])\n",
    "print(list1)"
   ]
  },
  {
   "cell_type": "markdown",
   "id": "24f3fa20",
   "metadata": {},
   "source": [
    "- iv"
   ]
  },
  {
   "cell_type": "code",
   "execution_count": 1,
   "id": "4f2f9e59",
   "metadata": {},
   "outputs": [
    {
     "data": {
      "text/plain": [
       "[1, 4, 9, 16, 25, 36, 49, 64, 81, 100]"
      ]
     },
     "execution_count": 1,
     "metadata": {},
     "output_type": "execute_result"
    }
   ],
   "source": [
    "[x**2 for x in range(1,11)]"
   ]
  },
  {
   "cell_type": "markdown",
   "id": "0c81653a",
   "metadata": {},
   "source": [
    "- v"
   ]
  },
  {
   "cell_type": "code",
   "execution_count": 2,
   "id": "0e90fd12",
   "metadata": {},
   "outputs": [
    {
     "data": {
      "text/plain": [
       "[1.0,\n",
       " 1.2599210498948732,\n",
       " 1.4422495703074083,\n",
       " 1.5874010519681994,\n",
       " 1.7099759466766968,\n",
       " 1.8171205928321397,\n",
       " 1.912931182772389,\n",
       " 2.0,\n",
       " 2.080083823051904,\n",
       " 2.154434690031884]"
      ]
     },
     "execution_count": 2,
     "metadata": {},
     "output_type": "execute_result"
    }
   ],
   "source": [
    "[x**(1/3) for x in range(1,11)]"
   ]
  },
  {
   "cell_type": "markdown",
   "id": "b65a97db",
   "metadata": {},
   "source": [
    "- vi\n"
   ]
  },
  {
   "cell_type": "code",
   "execution_count": 7,
   "id": "ed5ad942",
   "metadata": {},
   "outputs": [
    {
     "name": "stdout",
     "output_type": "stream",
     "text": [
      "False\n"
     ]
    }
   ],
   "source": [
    "check = lambda x : x%2==0\n",
    "print(check(3))"
   ]
  },
  {
   "cell_type": "markdown",
   "id": "e516074f",
   "metadata": {},
   "source": [
    "- vii"
   ]
  },
  {
   "cell_type": "code",
   "execution_count": 18,
   "id": "be8a4845",
   "metadata": {},
   "outputs": [
    {
     "name": "stdout",
     "output_type": "stream",
     "text": [
      "1 3 5 7 9 "
     ]
    }
   ],
   "source": [
    "list1= [1,2,3,4,5,6,7,8,9,10]\n",
    "def odd(x):\n",
    "    lst=[]\n",
    "    if x%2==1:\n",
    "        lst.append(x)\n",
    "    return lst\n",
    "\n",
    "ans = filter(odd, list1)\n",
    "for i in ans:\n",
    "    print(i, end=\" \")"
   ]
  },
  {
   "cell_type": "markdown",
   "id": "2b42d16a",
   "metadata": {},
   "source": [
    "- viii"
   ]
  },
  {
   "cell_type": "code",
   "execution_count": 21,
   "id": "80f1f287",
   "metadata": {},
   "outputs": [
    {
     "name": "stdout",
     "output_type": "stream",
     "text": [
      "[-1, -2, -3, -4, -5]\n",
      "[1, 2, 3, 4, 5, 6, 0]\n"
     ]
    }
   ],
   "source": [
    "list2= [1,2,3,4,5,6,-1,-2,-3,-4,-5,0]\n",
    "neg= []\n",
    "pos= []\n",
    "sort= lambda x : for i in x  \n",
    "[neg.append(i) if i<0 else pos.append(i) for i in list2 ]\n",
    "print(neg)\n",
    "print(pos)"
   ]
  },
  {
   "cell_type": "code",
   "execution_count": null,
   "id": "fb5e57b0",
   "metadata": {},
   "outputs": [],
   "source": []
  }
 ],
 "metadata": {
  "kernelspec": {
   "display_name": "Python 3 (ipykernel)",
   "language": "python",
   "name": "python3"
  },
  "language_info": {
   "codemirror_mode": {
    "name": "ipython",
    "version": 3
   },
   "file_extension": ".py",
   "mimetype": "text/x-python",
   "name": "python",
   "nbconvert_exporter": "python",
   "pygments_lexer": "ipython3",
   "version": "3.9.13"
  }
 },
 "nbformat": 4,
 "nbformat_minor": 5
}
