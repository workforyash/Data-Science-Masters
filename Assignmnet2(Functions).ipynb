{
 "cells": [
  {
   "cell_type": "markdown",
   "id": "da4bfeaf",
   "metadata": {},
   "source": [
    "Q1."
   ]
  },
  {
   "cell_type": "markdown",
   "id": "9d068348",
   "metadata": {},
   "source": [
    "\"def\" is used to create functions. "
   ]
  },
  {
   "cell_type": "code",
   "execution_count": 2,
   "id": "d3b25fc7",
   "metadata": {},
   "outputs": [
    {
     "data": {
      "text/plain": [
       "[1, 3, 5, 7, 9, 11, 13, 15, 17, 19, 21, 23, 25]"
      ]
     },
     "execution_count": 2,
     "metadata": {},
     "output_type": "execute_result"
    }
   ],
   "source": [
    "def odd():\n",
    "    n=[]\n",
    "    for i in range(1, 26):\n",
    "        if i%2==1:\n",
    "            n.append(i)\n",
    "    return n\n",
    "\n",
    "odd()"
   ]
  },
  {
   "cell_type": "markdown",
   "id": "4142ff01",
   "metadata": {},
   "source": [
    "Q2."
   ]
  },
  {
   "cell_type": "markdown",
   "id": "31ab1cab",
   "metadata": {},
   "source": [
    "* args and kwargs are used to have undefined number of inputs as arguments in a function. args is used to store elementary arguments while kwargs are used to store arguments in the form of key value pair. for eg--"
   ]
  },
  {
   "cell_type": "code",
   "execution_count": 4,
   "id": "602acc51",
   "metadata": {},
   "outputs": [
    {
     "data": {
      "text/plain": [
       "((1, 2, 2, 3, 4, 2, 1, 2), {'a': 12, 'd': 'sam', 'e': True})"
      ]
     },
     "execution_count": 4,
     "metadata": {},
     "output_type": "execute_result"
    }
   ],
   "source": [
    "def argsandkwargs(*args, **kwargs):\n",
    "    return args, kwargs \n",
    "\n",
    "argsandkwargs(1,2,2,3,4,2,1,2, a=12, d=\"sam\", e=True)"
   ]
  },
  {
   "cell_type": "markdown",
   "id": "f92a4d63",
   "metadata": {},
   "source": [
    "Q3."
   ]
  },
  {
   "cell_type": "markdown",
   "id": "1222d5a7",
   "metadata": {},
   "source": [
    "iterator in python is an oject that contains a countable number of values, on which we can tranverse through each value.\n",
    "- __iter__() method is used to initialise the iterator object\n",
    "- __next__() method is used to iteration"
   ]
  },
  {
   "cell_type": "code",
   "execution_count": 5,
   "id": "2c242135",
   "metadata": {},
   "outputs": [
    {
     "name": "stdout",
     "output_type": "stream",
     "text": [
      "2\n",
      "4\n",
      "6\n",
      "8\n",
      "10\n"
     ]
    }
   ],
   "source": [
    "l= [2, 4, 6, 8, 10, 12, 14, 16, 18, 20]\n",
    "iterator= iter(l)\n",
    "for i in range(5):\n",
    "    print(next(iterator))"
   ]
  },
  {
   "cell_type": "markdown",
   "id": "07a4e098",
   "metadata": {},
   "source": [
    "Q4."
   ]
  },
  {
   "cell_type": "markdown",
   "id": "02b3316e",
   "metadata": {},
   "source": [
    "Generator function in python returns an iterator that produces a sequence of values when iterated over.\n",
    "- \"yield\" keyword is similar to \"return\",but it returns a generator object to the caller, for eg., "
   ]
  },
  {
   "cell_type": "code",
   "execution_count": 8,
   "id": "d38bcf3f",
   "metadata": {},
   "outputs": [
    {
     "name": "stdout",
     "output_type": "stream",
     "text": [
      "0\n",
      "1\n",
      "1\n",
      "2\n",
      "3\n",
      "5\n",
      "8\n",
      "13\n",
      "21\n",
      "34\n"
     ]
    }
   ],
   "source": [
    "def fib(n):\n",
    "    a, b= 0, 1\n",
    "    for i in range(n):\n",
    "        yield a\n",
    "        a, b= b, a+b\n",
    "        \n",
    "for i in fib(10):\n",
    "    print(i)"
   ]
  },
  {
   "cell_type": "markdown",
   "id": "e70ffd02",
   "metadata": {},
   "source": [
    "Q5."
   ]
  },
  {
   "cell_type": "code",
   "execution_count": 29,
   "id": "16c6f87d",
   "metadata": {},
   "outputs": [
    {
     "name": "stdout",
     "output_type": "stream",
     "text": [
      "3\n",
      "7\n",
      "13\n",
      "19\n",
      "29\n",
      "37\n",
      "43\n",
      "53\n",
      "61\n",
      "71\n",
      "79\n",
      "89\n",
      "101\n",
      "107\n",
      "113\n",
      "131\n",
      "139\n",
      "151\n",
      "163\n",
      "173\n",
      "181\n",
      "193\n",
      "199\n",
      "223\n",
      "229\n",
      "239\n",
      "251\n",
      "263\n",
      "271\n",
      "281\n",
      "293\n",
      "311\n",
      "317\n",
      "337\n",
      "349\n",
      "359\n",
      "373\n",
      "383\n",
      "397\n",
      "409\n",
      "421\n",
      "433\n",
      "443\n",
      "457\n",
      "463\n",
      "479\n",
      "491\n",
      "503\n",
      "521\n",
      "541\n",
      "557\n",
      "569\n",
      "577\n",
      "593\n",
      "601\n",
      "613\n",
      "619\n",
      "641\n",
      "647\n",
      "659\n",
      "673\n",
      "683\n",
      "701\n",
      "719\n",
      "733\n",
      "743\n",
      "757\n",
      "769\n",
      "787\n",
      "809\n",
      "821\n",
      "827\n",
      "839\n",
      "857\n",
      "863\n",
      "881\n",
      "887\n",
      "911\n",
      "929\n",
      "941\n",
      "953\n",
      "971\n",
      "983\n",
      "997\n"
     ]
    }
   ],
   "source": [
    "import math\n",
    "def isprime(n):\n",
    "    if n<=1:\n",
    "        return False\n",
    "    if n==2:\n",
    "        return True\n",
    "    if n%2==0:\n",
    "        return False\n",
    "    i=3\n",
    "    while i<= math.sqrt(n):\n",
    "        if n%i==0:\n",
    "            return False\n",
    "        i=i+2\n",
    "    return True\n",
    "\n",
    "def generatePrime(n):\n",
    "    for i in range(n):\n",
    "        if isprime(i):\n",
    "            yield i\n",
    "            \n",
    "generator = generatePrime(1000)\n",
    "\n",
    "\n",
    "for i in generator:\n",
    "    print(next(generator))\n",
    "    "
   ]
  },
  {
   "cell_type": "code",
   "execution_count": null,
   "id": "c8972a36",
   "metadata": {},
   "outputs": [],
   "source": []
  }
 ],
 "metadata": {
  "kernelspec": {
   "display_name": "Python 3 (ipykernel)",
   "language": "python",
   "name": "python3"
  },
  "language_info": {
   "codemirror_mode": {
    "name": "ipython",
    "version": 3
   },
   "file_extension": ".py",
   "mimetype": "text/x-python",
   "name": "python",
   "nbconvert_exporter": "python",
   "pygments_lexer": "ipython3",
   "version": "3.9.7"
  }
 },
 "nbformat": 4,
 "nbformat_minor": 5
}
