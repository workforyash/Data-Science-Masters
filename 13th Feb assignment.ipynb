{
 "cells": [
  {
   "cell_type": "code",
   "execution_count": null,
   "id": "f60ff3f1-9ecd-4dc5-9869-5768ac055c08",
   "metadata": {},
   "outputs": [],
   "source": [
    "#Q1. Explain why we have to use the Exception class while creating a Custom Exception.\n",
    "behavior of the exception when it is thrown and caught in the program. This behavior is defined in the form of an exception \n",
    "class, which is a type of class that extends or inherits from the built-in Exception class.\n",
    "\n",
    "The reason we use the Exception class as the parent class for our custom exception is because it provides a standard interface\n",
    "and behavior for all exceptions in the language. This means that our custom exception can inherit all the properties and\n",
    "methods of the Exception class, such as the ability to set and get the error message, stack trace, and other information \n",
    "about the exception.\n",
    "\n",
    "In addition, using the Exception class as the parent class allows our custom exception to be caught by any catch block that\n",
    "is \n",
    "designed to catch exceptions of the Exception type. This makes it easier for other developers to understand and handle our \n",
    "custom exception in their own code.\n",
    "\n",
    "Therefore, by inheriting from the Exception class, we can define a custom exception class that is compatible with the standard\n",
    "exception handling mechanisms of the language and provides a consistent and understandable interface for developers who may \n",
    "need to use or handle our custom exception."
   ]
  },
  {
   "cell_type": "code",
   "execution_count": 3,
   "id": "30075811-5bd9-445c-b0e2-94c0311a43ab",
   "metadata": {},
   "outputs": [
    {
     "name": "stdout",
     "output_type": "stream",
     "text": [
      "<class 'BaseException'>\n"
     ]
    }
   ],
   "source": [
    "#Q2. Write a python program to print Python Exception Hierarchy.\n",
    "\n",
    "def print_exception_hierarchy(exception, depth=0):\n",
    "    print(' ' * depth + str(exception))\n",
    "    if issubclass(type(exception), BaseException):\n",
    "        for sub_exception in exception.__subclasses__():\n",
    "            print_exception_hierarchy(sub_exception, depth + 4)\n",
    "\n",
    "print_exception_hierarchy(BaseException)\n",
    "   "
   ]
  },
  {
   "cell_type": "code",
   "execution_count": 5,
   "id": "ebb59a36-154b-4ac9-acea-5a8a7e2a06f2",
   "metadata": {},
   "outputs": [
    {
     "ename": "ValueError",
     "evalue": "math domain error",
     "output_type": "error",
     "traceback": [
      "\u001b[0;31m---------------------------------------------------------------------------\u001b[0m",
      "\u001b[0;31mValueError\u001b[0m                                Traceback (most recent call last)",
      "Cell \u001b[0;32mIn[5], line 13\u001b[0m\n\u001b[1;32m     11\u001b[0m x \u001b[38;5;241m=\u001b[39m \u001b[38;5;241m-\u001b[39m\u001b[38;5;241m1.0\u001b[39m\n\u001b[1;32m     12\u001b[0m \u001b[38;5;28;01mtry\u001b[39;00m:\n\u001b[0;32m---> 13\u001b[0m     result \u001b[38;5;241m=\u001b[39m \u001b[43mmath\u001b[49m\u001b[38;5;241;43m.\u001b[39;49m\u001b[43msqrt\u001b[49m\u001b[43m(\u001b[49m\u001b[43mx\u001b[49m\u001b[43m)\u001b[49m\n\u001b[1;32m     14\u001b[0m     \u001b[38;5;28mprint\u001b[39m(result)\n\u001b[1;32m     15\u001b[0m \u001b[38;5;28;01mexcept\u001b[39;00m \u001b[38;5;167;01mFloatingPointError\u001b[39;00m:\n",
      "\u001b[0;31mValueError\u001b[0m: math domain error"
     ]
    }
   ],
   "source": [
    "#Q3. What errors are defined in the ArithmeticError class? Explain any two with an example.\n",
    "\"\"\"\n",
    "The ArithmeticError class is a built-in exception class in Python that serves as the base class for all exceptions that \n",
    "occur during arithmetic operations. The exceptions that are defined in the ArithmeticError class are as follows:\n",
    "\n",
    "FloatingPointError: This exception is raised when a floating-point arithmetic operation fails. For example, if you try to\n",
    "divide a number by zero or take the square root of a negative number, a FloatingPointError will be raised. Here's an example:\n",
    "\n",
    "import math\n",
    "\n",
    "x = -1.0\n",
    "try:\n",
    "    result = math.sqrt(x)\n",
    "    print(result)\n",
    "except FloatingPointError:\n",
    "    print(f\"Error: can't take square root of {x}\")\n",
    "ZeroDivisionError: This exception is raised when you try to divide a number by zero. Here's an example:\n",
    "\n",
    "\n",
    "x = 10\n",
    "y = 0\n",
    "try:\n",
    "    result = x / y\n",
    "    print(result)\n",
    "except ZeroDivisionError:\n",
    "    print(\"Error: division by zero\")\n",
    "    \"\"\""
   ]
  },
  {
   "cell_type": "code",
   "execution_count": 6,
   "id": "b2b9747b-8ffa-4e0f-bfc3-a6fb7856e292",
   "metadata": {},
   "outputs": [],
   "source": [
    "#Q4. Why LookupError class is used? Explain with an example KeyError and IndexError.\n",
    "\"\"\"The LookupError class is a built-in exception class in Python that serves as the base class for all exceptions\n",
    "that occur when a lookup or index operation fails. The exceptions that are defined in the LookupError class are as follows:\n",
    "\n",
    "IndexError: This exception is raised when you try to access an index that is out of range for a sequence, such\n",
    "as a list or a tuple. For example:\n",
    "\n",
    "python\n",
    "Copy code\n",
    "lst = [1, 2, 3]\n",
    "try:\n",
    "    print(lst[4])\n",
    "except IndexError:\n",
    "    print(\"Error: index out of range\")\n",
    "\n",
    "KeyError: This exception is raised when you try to access a key that does not exist in a dictionary. For example:\n",
    "\n",
    "d = {'a': 1, 'b': 2, 'c': 3}\n",
    "try:\n",
    "    print(d['d'])\n",
    "except KeyError:\n",
    "    print(\"Error: key not found\")\n",
    "\n",
    "Both IndexError and KeyError are subclasses of LookupError, which means you can catch both exceptions using the \n",
    "LookupError class instead of catching them separately.\n",
    "\n",
    "\n",
    "try:\n",
    "    # some lookup or index operation\n",
    "except LookupError:\n",
    "    # handle any lookup or index error\n",
    "The LookupError class is used to catch all exceptions that occur during lookup or indexing operations, \n",
    "regardless of the specific type of exception that is raised. This can be useful if you don't know in advance what\n",
    "type of exception might be raised, or if you want to handle all lookup or indexing errors in the same way.\"\"\""
   ]
  },
  {
   "cell_type": "code",
   "execution_count": null,
   "id": "953ad8ff-84fd-454d-af19-99b9b2f513bb",
   "metadata": {},
   "outputs": [],
   "source": [
    "#Q5. Explain ImportError. What is ModuleNotFoundError?\n",
    "\"\"\"\n",
    "In Python, the ImportError is a built-in exception class that is raised when a module or a package cannot be imported.\n",
    "This exception can occur due to a variety of reasons, such as a missing module, an incorrect module name, or an improperly \n",
    "installed module. Here's an example:\n",
    "\n",
    "try:\n",
    "    import some_module\n",
    "except ImportError:\n",
    "    print(\"Error: failed to import module\")\n",
    "The ImportError class is a subclass of the Exception class, which means that it can be caught using a generic \n",
    "try...except block that catches all exceptions.\n",
    "\n",
    "In Python 3.6 and later versions, a more specific exception called ModuleNotFoundError was added as a subclass of \n",
    "ImportError. ModuleNotFoundError is raised when a module or package cannot be found. It is more specific than\n",
    "ImportError and can be used to distinguish between missing modules and other import errors. Here's an example:\n",
    "\n",
    "try:\n",
    "    import some_missing_module\n",
    "except ModuleNotFoundError:\n",
    "    print(\"Error: module not found\")\n",
    "In general, it is recommended to use ModuleNotFoundError instead of ImportError when you specifically \n",
    "want to catch the error that occurs when a module or package cannot be found.\n",
    "\"\"\"\n",
    "\n",
    "\n",
    "\n"
   ]
  },
  {
   "cell_type": "code",
   "execution_count": null,
   "id": "ea18e3e1-cd6c-426e-9ea6-ec5f32391e52",
   "metadata": {},
   "outputs": [],
   "source": [
    "#Q6. List down some best practices for exception handling in python.\n",
    "Exception handling is an important aspect of writing reliable and robust Python code. Here are some best practices for \n",
    "exception handling in Python:\n",
    "\n",
    "Be specific in catching exceptions: Catch only the exceptions that you are expecting and be as specific as possible.\n",
    "Avoid catching generic exceptions like Exception or BaseException \n",
    "as they can catch unexpected errors as well.\n",
    "\n",
    "Don't catch exceptions that you can't handle: If you catch an exception that you can't handle, you may end up suppressing\n",
    "the error and making it difficult to debug. Only catch the exceptions that you know how to handle.\n",
    "\n",
    "Use finally block for clean-up code: Use finally block for any clean-up code that needs to be executed, regardless of\n",
    "whether an exception occurred or not. This can be useful for releasing resources like file handles, network connections, etc.\n",
    "\n",
    "Handle exceptions as close to the source as possible: Handle exceptions as close to the source of the error as possible. \n",
    "This can help in localizing the problem and making it easier to debug.\n",
    "\n",
    "Use exception chaining to preserve error information: When catching an exception, consider chaining it to the original \n",
    "exception using the raise ... from syntax. This can preserve the error information and make it easier to debug the problem.\n",
    "\n",
    "Document the exceptions that can be raised: Document the exceptions that can be raised by a function or a module.\n",
    "This can help other developers understand the potential errors that can occur and how to handle them.\n",
    "\n",
    "Keep the exception handling code separate from the main code: Keep the exception handling code separate \n",
    "from the main code to make it easier to read and understand. Don't mix exception handling code with the main code\n",
    "as it can make the code harder to read and maintain.\n",
    "\n",
    "Use assertions for debugging: Use assertions to check for conditions that are not expected to happen. Assertions can help in debugging the code and catching errors early in the development process"
   ]
  }
 ],
 "metadata": {
  "kernelspec": {
   "display_name": "Python 3 (ipykernel)",
   "language": "python",
   "name": "python3"
  },
  "language_info": {
   "codemirror_mode": {
    "name": "ipython",
    "version": 3
   },
   "file_extension": ".py",
   "mimetype": "text/x-python",
   "name": "python",
   "nbconvert_exporter": "python",
   "pygments_lexer": "ipython3",
   "version": "3.10.8"
  }
 },
 "nbformat": 4,
 "nbformat_minor": 5
}
