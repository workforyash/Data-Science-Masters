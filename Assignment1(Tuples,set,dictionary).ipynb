{
 "cells": [
  {
   "cell_type": "markdown",
   "id": "2aabb336",
   "metadata": {},
   "source": [
    "Q1.\n",
    "Tuples are basically used for ordered collection of data, that can be of any type eg., int, float, string, etc.\n",
    "Characteristics: \n",
    "- tuples are indexed\n",
    "- tuples are immutable\n",
    "- tuples are ordered"
   ]
  },
  {
   "cell_type": "markdown",
   "id": "10f4ec6c",
   "metadata": {},
   "source": [
    "Q2."
   ]
  },
  {
   "cell_type": "markdown",
   "id": "70abbf31",
   "metadata": {},
   "source": [
    " Two tuple methods are:\n",
    "1. count method -> used to count the occurances of elements in the tuple.\n",
    "\n",
    "\n",
    "\n",
    "\n",
    "eg:-\n"
   ]
  },
  {
   "cell_type": "code",
   "execution_count": 6,
   "id": "50896745",
   "metadata": {},
   "outputs": [
    {
     "name": "stdout",
     "output_type": "stream",
     "text": [
      "4\n"
     ]
    }
   ],
   "source": [
    "t1=(1,2,3,2,2,2,3,4)\n",
    "print(t1.count(2))"
   ]
  },
  {
   "cell_type": "markdown",
   "id": "2d5c0431",
   "metadata": {},
   "source": [
    "2. index method -> used to get the index of the element in the tuple.\n",
    "\n",
    "\n",
    "\n",
    "\n",
    "eg:\n"
   ]
  },
  {
   "cell_type": "code",
   "execution_count": 8,
   "id": "119e5878",
   "metadata": {},
   "outputs": [
    {
     "data": {
      "text/plain": [
       "2"
      ]
     },
     "execution_count": 8,
     "metadata": {},
     "output_type": "execute_result"
    }
   ],
   "source": [
    "t2= (32,1,234,12,34,11)\n",
    "t2.index(234)"
   ]
  },
  {
   "cell_type": "markdown",
   "id": "d5929daf",
   "metadata": {},
   "source": [
    "Q3."
   ]
  },
  {
   "cell_type": "markdown",
   "id": "7651d434",
   "metadata": {},
   "source": [
    "Set does not allow duplicate items in python."
   ]
  },
  {
   "cell_type": "code",
   "execution_count": 10,
   "id": "663aa407",
   "metadata": {},
   "outputs": [
    {
     "name": "stdout",
     "output_type": "stream",
     "text": [
      "{1, 2, 3, 4}\n"
     ]
    }
   ],
   "source": [
    "List = [1, 1, 1, 2, 1, 3, 1, 4, 2, 1, 2, 2, 2, 3, 2, 4, 3, 1, 3, 2, 3, 3, 3, 4, 4, 1, 4, 2, 4, 3, 4, 4]\n",
    "Set= set(List)\n",
    "print(Set)"
   ]
  },
  {
   "cell_type": "markdown",
   "id": "16601a93",
   "metadata": {},
   "source": [
    "Q4."
   ]
  },
  {
   "cell_type": "markdown",
   "id": "4277a99e",
   "metadata": {},
   "source": [
    "- union() -> it is used to find the union of two sets i.e., include all the elements from each of the two sets. \n",
    "eg:"
   ]
  },
  {
   "cell_type": "code",
   "execution_count": 14,
   "id": "a7ee89ae",
   "metadata": {},
   "outputs": [
    {
     "name": "stdout",
     "output_type": "stream",
     "text": [
      "{1, 2, 3, 4, 5, 6, 7}\n"
     ]
    }
   ],
   "source": [
    "set1= {1,2,3,4}\n",
    "set2= {4,5,6,7}\n",
    "set3= set1.union(set2)\n",
    "print(set3)"
   ]
  },
  {
   "cell_type": "markdown",
   "id": "0bcb0179",
   "metadata": {},
   "source": [
    "- update() -> update is used to update the set with the value of other set. \n",
    "eg:"
   ]
  },
  {
   "cell_type": "code",
   "execution_count": 16,
   "id": "bd219636",
   "metadata": {},
   "outputs": [
    {
     "name": "stdout",
     "output_type": "stream",
     "text": [
      "{1, 2, 3, 4, 5, 6}\n"
     ]
    }
   ],
   "source": [
    "set1= {1,2,3,4}\n",
    "set2= {3,4,5,6}\n",
    "set2.update(set1)\n",
    "print(set2)"
   ]
  },
  {
   "cell_type": "markdown",
   "id": "239a3c7f",
   "metadata": {},
   "source": [
    "Q5."
   ]
  },
  {
   "cell_type": "markdown",
   "id": "13238c24",
   "metadata": {},
   "source": [
    "- Dictionary is used to store the collection of data in  key-value pairs. \n",
    "- It is ordered collection of data. "
   ]
  },
  {
   "cell_type": "code",
   "execution_count": 18,
   "id": "d7a658c5",
   "metadata": {},
   "outputs": [
    {
     "name": "stdout",
     "output_type": "stream",
     "text": [
      "{'name': 'yash', 'batch': 'dsMasters', 'start_date': '28 feb'}\n"
     ]
    }
   ],
   "source": [
    "dict= {\"name\":\"yash\", \"batch\":\"dsMasters\", \"start_date\":\"28 feb\"}\n",
    "print(dict)"
   ]
  },
  {
   "cell_type": "markdown",
   "id": "2d4060ee",
   "metadata": {},
   "source": [
    "Q6."
   ]
  },
  {
   "cell_type": "markdown",
   "id": "d0dc7801",
   "metadata": {},
   "source": [
    "Yes, we can create nested dictionary."
   ]
  },
  {
   "cell_type": "code",
   "execution_count": 20,
   "id": "881718a8",
   "metadata": {},
   "outputs": [
    {
     "name": "stdout",
     "output_type": "stream",
     "text": [
      "{'key': {'nested_key': 'value'}}\n"
     ]
    }
   ],
   "source": [
    "dict1= {\"key\":{\"nested_key\": \"value\"}}\n",
    "print(dict1)"
   ]
  },
  {
   "cell_type": "markdown",
   "id": "4a52ec3d",
   "metadata": {},
   "source": [
    "Q7."
   ]
  },
  {
   "cell_type": "code",
   "execution_count": null,
   "id": "f31474d1",
   "metadata": {},
   "outputs": [],
   "source": [
    "\n"
   ]
  },
  {
   "cell_type": "markdown",
   "id": "3fa387be",
   "metadata": {},
   "source": [
    "Q8."
   ]
  },
  {
   "cell_type": "markdown",
   "id": "eaeacd57",
   "metadata": {},
   "source": [
    "Keys, values, items are the three view objects in dictionary.\n",
    "- Key view"
   ]
  },
  {
   "cell_type": "code",
   "execution_count": 25,
   "id": "b8c9d54c",
   "metadata": {},
   "outputs": [
    {
     "data": {
      "text/plain": [
       "dict_keys(['Sport', 'Teams'])"
      ]
     },
     "execution_count": 25,
     "metadata": {},
     "output_type": "execute_result"
    }
   ],
   "source": [
    "dict1= {'Sport': 'Cricket' , 'Teams': ['India', 'Australia', 'England', 'South Africa', 'Sri Lanka', 'New Zealand']}\n",
    "dict1.keys()"
   ]
  },
  {
   "cell_type": "markdown",
   "id": "15af2a8a",
   "metadata": {},
   "source": [
    "- value view"
   ]
  },
  {
   "cell_type": "code",
   "execution_count": 26,
   "id": "36d389df",
   "metadata": {},
   "outputs": [
    {
     "data": {
      "text/plain": [
       "dict_values(['Cricket', ['India', 'Australia', 'England', 'South Africa', 'Sri Lanka', 'New Zealand']])"
      ]
     },
     "execution_count": 26,
     "metadata": {},
     "output_type": "execute_result"
    }
   ],
   "source": [
    "dict1.values()"
   ]
  },
  {
   "cell_type": "markdown",
   "id": "d71614c3",
   "metadata": {},
   "source": [
    "- items view"
   ]
  },
  {
   "cell_type": "code",
   "execution_count": 27,
   "id": "bef3f155",
   "metadata": {},
   "outputs": [
    {
     "data": {
      "text/plain": [
       "dict_items([('Sport', 'Cricket'), ('Teams', ['India', 'Australia', 'England', 'South Africa', 'Sri Lanka', 'New Zealand'])])"
      ]
     },
     "execution_count": 27,
     "metadata": {},
     "output_type": "execute_result"
    }
   ],
   "source": [
    "dict1.items()"
   ]
  },
  {
   "cell_type": "code",
   "execution_count": null,
   "id": "870b19fc",
   "metadata": {},
   "outputs": [],
   "source": []
  }
 ],
 "metadata": {
  "kernelspec": {
   "display_name": "Python 3 (ipykernel)",
   "language": "python",
   "name": "python3"
  },
  "language_info": {
   "codemirror_mode": {
    "name": "ipython",
    "version": 3
   },
   "file_extension": ".py",
   "mimetype": "text/x-python",
   "name": "python",
   "nbconvert_exporter": "python",
   "pygments_lexer": "ipython3",
   "version": "3.9.7"
  }
 },
 "nbformat": 4,
 "nbformat_minor": 5
}
