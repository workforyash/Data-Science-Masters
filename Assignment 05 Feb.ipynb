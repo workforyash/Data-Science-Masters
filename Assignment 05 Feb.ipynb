{
 "cells": [
  {
   "cell_type": "markdown",
   "id": "d0ea6a72",
   "metadata": {},
   "source": [
    "Q1"
   ]
  },
  {
   "cell_type": "markdown",
   "id": "747cf6a8",
   "metadata": {},
   "source": [
    "- Class is a blueprint that is used to define an object.\n",
    "- Object is the instance of the class. For eg.,"
   ]
  },
  {
   "cell_type": "code",
   "execution_count": 1,
   "id": "81d56ffa",
   "metadata": {},
   "outputs": [],
   "source": [
    "class Student():\n",
    "    pass\n",
    "ram= Student()"
   ]
  },
  {
   "cell_type": "markdown",
   "id": "5c06cb81",
   "metadata": {},
   "source": [
    "Here, Student is a class and ram is the object of the class Student."
   ]
  },
  {
   "cell_type": "markdown",
   "id": "10aa381f",
   "metadata": {},
   "source": [
    "Q2."
   ]
  },
  {
   "cell_type": "markdown",
   "id": "89c44414",
   "metadata": {},
   "source": [
    "Four pillars of OOPS are:-\n",
    "- Abstraction - hiding the unwanted data from the user\n",
    "- Encapsulation - binding the data into one unit for eg., class\n",
    "- Inheritance - inheriting the functionalities from one class to another class\n",
    "- Polymorphism - using same name to perform different funcitionalities"
   ]
  },
  {
   "cell_type": "markdown",
   "id": "dfe679c4",
   "metadata": {},
   "source": [
    "Q3."
   ]
  },
  {
   "cell_type": "markdown",
   "id": "1c490123",
   "metadata": {},
   "source": [
    "__init__() is a constructer that is used to initialise the value when object is created without calling any function. For eg.,"
   ]
  },
  {
   "cell_type": "code",
   "execution_count": 2,
   "id": "235a531a",
   "metadata": {},
   "outputs": [],
   "source": [
    "class demo:\n",
    "    def __init__(self, val):\n",
    "        self.value= val"
   ]
  },
  {
   "cell_type": "code",
   "execution_count": 3,
   "id": "5eb3faa3",
   "metadata": {},
   "outputs": [],
   "source": [
    "demo1 = demo(34)"
   ]
  },
  {
   "cell_type": "code",
   "execution_count": 4,
   "id": "4126886d",
   "metadata": {},
   "outputs": [
    {
     "data": {
      "text/plain": [
       "34"
      ]
     },
     "execution_count": 4,
     "metadata": {},
     "output_type": "execute_result"
    }
   ],
   "source": [
    "demo1.value"
   ]
  },
  {
   "cell_type": "markdown",
   "id": "9388e6fc",
   "metadata": {},
   "source": [
    "Q4."
   ]
  },
  {
   "cell_type": "markdown",
   "id": "87d3c40e",
   "metadata": {},
   "source": [
    "Self is used as a reference to the class. "
   ]
  },
  {
   "cell_type": "markdown",
   "id": "ecf35735",
   "metadata": {},
   "source": [
    "Q5."
   ]
  },
  {
   "cell_type": "markdown",
   "id": "aee0b414",
   "metadata": {},
   "source": [
    "Inheritance is used to inherit functionalities from one class "
   ]
  }
 ],
 "metadata": {
  "kernelspec": {
   "display_name": "Python 3 (ipykernel)",
   "language": "python",
   "name": "python3"
  },
  "language_info": {
   "codemirror_mode": {
    "name": "ipython",
    "version": 3
   },
   "file_extension": ".py",
   "mimetype": "text/x-python",
   "name": "python",
   "nbconvert_exporter": "python",
   "pygments_lexer": "ipython3",
   "version": "3.9.13"
  }
 },
 "nbformat": 4,
 "nbformat_minor": 5
}
