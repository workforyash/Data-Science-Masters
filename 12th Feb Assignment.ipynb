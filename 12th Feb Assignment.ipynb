{
 "cells": [
  {
   "cell_type": "markdown",
   "id": "5602adaa",
   "metadata": {},
   "source": [
    "Q1."
   ]
  },
  {
   "cell_type": "markdown",
   "id": "6b159b86",
   "metadata": {},
   "source": [
    "Exception is an semantic error that may or may not arises during the execution of the program.\n",
    "While syntax error are those error that arises because not following the syntactical rules."
   ]
  },
  {
   "cell_type": "markdown",
   "id": "56eacffb",
   "metadata": {},
   "source": [
    "Q2."
   ]
  },
  {
   "cell_type": "markdown",
   "id": "77cb1ca3",
   "metadata": {},
   "source": [
    "When an exception is not handled explicitly, the system raise an error while aborting the execution of the program, for e.g., "
   ]
  },
  {
   "cell_type": "code",
   "execution_count": 2,
   "id": "4ef5f2d9",
   "metadata": {},
   "outputs": [
    {
     "ename": "ZeroDivisionError",
     "evalue": "division by zero",
     "output_type": "error",
     "traceback": [
      "\u001b[1;31m---------------------------------------------------------------------------\u001b[0m",
      "\u001b[1;31mZeroDivisionError\u001b[0m                         Traceback (most recent call last)",
      "\u001b[1;32m~\\AppData\\Local\\Temp\\ipykernel_10368\\327093124.py\u001b[0m in \u001b[0;36m<module>\u001b[1;34m\u001b[0m\n\u001b[1;32m----> 1\u001b[1;33m \u001b[1;36m23\u001b[0m\u001b[1;33m/\u001b[0m\u001b[1;36m0\u001b[0m\u001b[1;33m\u001b[0m\u001b[1;33m\u001b[0m\u001b[0m\n\u001b[0m",
      "\u001b[1;31mZeroDivisionError\u001b[0m: division by zero"
     ]
    }
   ],
   "source": [
    "23/0"
   ]
  },
  {
   "cell_type": "markdown",
   "id": "0ae8db1e",
   "metadata": {},
   "source": [
    "Q3."
   ]
  },
  {
   "cell_type": "markdown",
   "id": "c2ea2589",
   "metadata": {},
   "source": [
    "Python uses try and catch blocks to handle exceptions"
   ]
  },
  {
   "cell_type": "code",
   "execution_count": 3,
   "id": "e4011296",
   "metadata": {},
   "outputs": [
    {
     "name": "stdout",
     "output_type": "stream",
     "text": [
      "0\n",
      "division by zero\n"
     ]
    }
   ],
   "source": [
    "n= int(input())\n",
    "try:\n",
    "    10/n\n",
    "except Exception as e:\n",
    "    print(e)"
   ]
  },
  {
   "cell_type": "markdown",
   "id": "0ab91830",
   "metadata": {},
   "source": [
    "Q4.  a."
   ]
  },
  {
   "cell_type": "markdown",
   "id": "57648fd9",
   "metadata": {},
   "source": [
    "- try block is used for the statements that may invoke error\n",
    "- else block is used to specify statements that we want to execute when no exception has occured"
   ]
  },
  {
   "cell_type": "markdown",
   "id": "d9356fd6",
   "metadata": {},
   "source": [
    "b."
   ]
  },
  {
   "cell_type": "markdown",
   "id": "6b1ca503",
   "metadata": {},
   "source": [
    "- finally block contains those statements that execute whether an exception occurs or not"
   ]
  },
  {
   "cell_type": "markdown",
   "id": "bba4d97f",
   "metadata": {},
   "source": [
    "c."
   ]
  },
  {
   "cell_type": "markdown",
   "id": "d7ff5b58",
   "metadata": {},
   "source": [
    "- raise is a reserved keyword that is used for handling custom exceptions"
   ]
  },
  {
   "cell_type": "code",
   "execution_count": 6,
   "id": "bbbb9a1f",
   "metadata": {},
   "outputs": [
    {
     "name": "stdout",
     "output_type": "stream",
     "text": [
      "no such file exist\n",
      "this statement will execute no matter what\n"
     ]
    }
   ],
   "source": [
    "try:\n",
    "    with open(\"test.txt\") as f:\n",
    "        print(f.read)\n",
    "except Exception as e:\n",
    "    print (\"no such file exist\")\n",
    "else:\n",
    "    print(\"file opened successfully\")\n",
    "finally:\n",
    "    print(\"this statement will execute no matter what\")"
   ]
  },
  {
   "cell_type": "markdown",
   "id": "0b7d0588",
   "metadata": {},
   "source": [
    "Q5."
   ]
  },
  {
   "cell_type": "markdown",
   "id": "a1a4496b",
   "metadata": {},
   "source": [
    "Custom exception handling allows user to have custom messages for exceptions. It is achieved using raise keyword"
   ]
  },
  {
   "cell_type": "code",
   "execution_count": 7,
   "id": "96429143",
   "metadata": {},
   "outputs": [],
   "source": [
    "class validate_deposit(Exception):\n",
    "    def __init__(self, msg):\n",
    "        self.msg= msg\n",
    "        \n",
    "def depo(amt):\n",
    "    if amt<0:\n",
    "        raise validate_deposit(\"Are you retarted?\")\n",
    "    if amt>10000:\n",
    "        raise validate_deposit(\"You're rich as f...calling FBI\")\n",
    "    else:\n",
    "        raise validate_deposit(\"You're good to go\")\n",
    "        \n",
    "try:\n",
    "    amt= int(input(\"Enter the amount you want to deposit in the account:\"))\n",
    "    depo(amt)\n",
    "except validate_deposit as e:\n",
    ")"
   ]
  },
  {
   "cell_type": "code",
   "execution_count": null,
   "id": "b565baeb",
   "metadata": {},
   "outputs": [],
   "source": []
  }
 ],
 "metadata": {
  "kernelspec": {
   "display_name": "Python 3 (ipykernel)",
   "language": "python",
   "name": "python3"
  },
  "language_info": {
   "codemirror_mode": {
    "name": "ipython",
    "version": 3
   },
   "file_extension": ".py",
   "mimetype": "text/x-python",
   "name": "python",
   "nbconvert_exporter": "python",
   "pygments_lexer": "ipython3",
   "version": "3.9.13"
  }
 },
 "nbformat": 4,
 "nbformat_minor": 5
}
